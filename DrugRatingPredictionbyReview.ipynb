{
  "nbformat": 4,
  "nbformat_minor": 0,
  "metadata": {
    "accelerator": "GPU",
    "colab": {
      "name": "DrugRatingPredictionbyReview.ipynb",
      "provenance": [],
      "collapsed_sections": [],
      "authorship_tag": "ABX9TyMBMBDsufbsrrBNE+ZwmHPt",
      "include_colab_link": true
    },
    "kernelspec": {
      "display_name": "Python 3",
      "name": "python3"
    },
    "language_info": {
      "name": "python"
    }
  },
  "cells": [
    {
      "cell_type": "markdown",
      "metadata": {
        "id": "view-in-github",
        "colab_type": "text"
      },
      "source": [
        "<a href=\"https://colab.research.google.com/github/DiaaEddinH/ML-python-project/blob/main/DrugRatingPredictionbyReview.ipynb\" target=\"_parent\"><img src=\"https://colab.research.google.com/assets/colab-badge.svg\" alt=\"Open In Colab\"/></a>"
      ]
    },
    {
      "cell_type": "markdown",
      "metadata": {
        "id": "2xJRMwavsS98"
      },
      "source": [
        "#Introduction\n",
        "\n",
        "The purpose of this project is to employ machine learning algorithms on the UCI drug review dataset.\n",
        "The UCI ML Drug Review dataset provides patient reviews on specific drugs along with related conditions and a 10-star patient rating system reflecting overall patient satisfaction. The data was obtained by crawling online pharmaceutical review sites. This data was published in a study on sentiment analysis of drug experience over multiple facets, ex. sentiments learned on specific aspects such as effectiveness and side effects (see the acknowledgments section to learn more)."
      ]
    },
    {
      "cell_type": "markdown",
      "metadata": {
        "id": "eNg_uZb2t9oY"
      },
      "source": [
        "#Regression\n",
        "A first approach for working with this dataset would be as a regression problem i.e. \"Can we predict the ratings of a drug based on the review ?\" "
      ]
    },
    {
      "cell_type": "code",
      "metadata": {
        "id": "s_IIFqC6buzb"
      },
      "source": [
        "import matplotlib.pyplot as plt\n",
        "import pandas as pd\n",
        "import numpy as np\n",
        "\n",
        "try:\n",
        "  %tensorflow_version 2.x\n",
        "except Exception:\n",
        "  pass\n",
        "\n",
        "import tensorflow as tf\n",
        "from tensorflow import keras\n",
        "from tensorflow.keras import layers, Sequential\n",
        "from keras.preprocessing import text, sequence"
      ],
      "execution_count": null,
      "outputs": []
    },
    {
      "cell_type": "code",
      "metadata": {
        "id": "Y2icBoefvUPR",
        "colab": {
          "base_uri": "https://localhost:8080/"
        },
        "outputId": "2ea4e208-9444-4366-d7d4-e2dec849de8a"
      },
      "source": [
        "!wget https://archive.ics.uci.edu/ml/machine-learning-databases/00462/drugsCom_raw.zip\n",
        "!unzip drugsCom_raw.zip\n",
        "\n",
        "train_file = \"drugsComTrain_raw.tsv\"\n",
        "test_file = \"drugsComTest_raw.tsv\""
      ],
      "execution_count": null,
      "outputs": [
        {
          "output_type": "stream",
          "text": [
            "--2021-03-25 16:07:01--  https://archive.ics.uci.edu/ml/machine-learning-databases/00462/drugsCom_raw.zip\n",
            "Resolving archive.ics.uci.edu (archive.ics.uci.edu)... 128.195.10.252\n",
            "Connecting to archive.ics.uci.edu (archive.ics.uci.edu)|128.195.10.252|:443... connected.\n",
            "HTTP request sent, awaiting response... 200 OK\n",
            "Length: 42989872 (41M) [application/x-httpd-php]\n",
            "Saving to: ‘drugsCom_raw.zip’\n",
            "\n",
            "drugsCom_raw.zip    100%[===================>]  41.00M  14.4MB/s    in 2.9s    \n",
            "\n",
            "2021-03-25 16:07:04 (14.4 MB/s) - ‘drugsCom_raw.zip’ saved [42989872/42989872]\n",
            "\n",
            "Archive:  drugsCom_raw.zip\n",
            "  inflating: drugsComTest_raw.tsv    \n",
            "  inflating: drugsComTrain_raw.tsv   \n"
          ],
          "name": "stdout"
        }
      ]
    },
    {
      "cell_type": "markdown",
      "metadata": {
        "id": "Dvmvh5HHxJxw"
      },
      "source": [
        "We load the data we are going to use for the training of our model. Initially, we sampled a smaller dataset to facilitate trial and error in creating the model."
      ]
    },
    {
      "cell_type": "code",
      "metadata": {
        "id": "awEnonI_nW6w"
      },
      "source": [
        "#Set parameters for the text-processing\n",
        "VOCAB_SIZE = 12000\n",
        "MAX_LEN = 300\n",
        "\n",
        "def process_reviews(reviews, token):\n",
        "  wide = token.texts_to_matrix(reviews)\n",
        "  deep = token.texts_to_sequences(reviews)\n",
        "  deep = sequence.pad_sequences(deep, maxlen=MAX_LEN)\n",
        "\n",
        "  return [wide, deep]\n",
        "\n",
        "def norm_data(df_data):\n",
        "  return (df_data - df_data.mean())/df_data.std()"
      ],
      "execution_count": null,
      "outputs": []
    },
    {
      "cell_type": "code",
      "metadata": {
        "id": "UJoJUiqI1bje"
      },
      "source": [
        "#Load data\n",
        "df_train = pd.read_csv(train_file, sep=\"\\t\")\n",
        "df_test = pd.read_csv(test_file, sep=\"\\t\")\n",
        "\n",
        "# #Normalize data\n",
        "# df_train['rating'] = norm_data(df_train.rating)\n",
        "# df_test['rating'] = norm_data(df_test.rating)\n",
        "\n",
        "#Use only reviews that have been rated useful by, at least 100, users\n",
        "df_train = df_train[~df_train['usefulCount'].map(df_train.usefulCount.value_counts()).lt(100)]\n",
        "df_test = df_test[~df_test['usefulCount'].map(df_test.usefulCount.value_counts()).lt(100)]\n",
        "\n",
        "df_train['review'] = df_train['review'].replace({\"&#039;\":\"'\"}, regex=True)\n",
        "df_test['review'] = df_test['review'].replace({\"&#039;\":\"'\"}, regex=True)\n",
        "\n",
        "#Normalize the data\n",
        "# df_train['rating'] = df_train['rating']/10.\n",
        "# df_test['rating'] = df_test['rating']/10.\n",
        "\n",
        "#Sample 10k from train data and 2k from test data for initial testing.\n",
        "#Create dataset with rating and review for training\n",
        "train_data = df_train[['review','rating']].sample(frac=0.8, random_state=0)\n",
        "val_data = df_train[['review','rating']].drop(train_data.index)\n",
        "test_data = df_test[['review','rating']]\n",
        "\n",
        "#Create labels\n",
        "train_labels = train_data.pop('rating')\n",
        "val_labels = val_data.pop('rating')\n",
        "test_labels = test_data.pop('rating')\n",
        "\n",
        "#Processing training data\n",
        "token = text.Tokenizer(num_words=VOCAB_SIZE, char_level=False)\n",
        "token.fit_on_texts(train_data.review)"
      ],
      "execution_count": null,
      "outputs": []
    },
    {
      "cell_type": "markdown",
      "metadata": {
        "id": "SJ-Zlbzn0J4a"
      },
      "source": [
        "We are going to employ a \"wide & deep learning\" model."
      ]
    },
    {
      "cell_type": "code",
      "metadata": {
        "id": "wRhvkaiCXWVU"
      },
      "source": [
        "#lr_sched = keras.optimizers.schedules.ExponentialDecay(0.001, 1000, 0.96)\n",
        "opt = keras.optimizers.SGD(learning_rate=0.01)\n",
        "\n",
        "#Wide model network\n",
        "wide_input = layers.Input(shape=(VOCAB_SIZE,))\n",
        "inter = layers.Dense(64, activation='relu')(wide_input)\n",
        "#inter = layers.Dropout(0.3)(inter)\n",
        "predictions = layers.Dense(1)(inter)\n",
        "wide_model = keras.Model(inputs=wide_input, outputs=predictions)\n",
        "wide_model.compile(loss='mse', optimizer=opt, metrics=['accuracy'])\n",
        "\n",
        "#Deep model network\n",
        "deep_input = layers.Input(shape=(MAX_LEN,))\n",
        "embed = layers.Embedding(VOCAB_SIZE, 16, input_length=MAX_LEN)(deep_input)\n",
        "#embed = layers.LSTM(32)(embed)\n",
        "embed = layers.Flatten()(embed)\n",
        "embed = layers.Dense(10, activation='relu')(embed)\n",
        "#embed = layers.Dropout(0.3)(embed)\n",
        "embed_out = layers.Dense(1)(embed)\n",
        "deep_model = keras.Model(inputs=deep_input, outputs=embed_out)\n",
        "deep_model.compile(loss='mse', optimizer=opt, metrics=['accuracy'])\n",
        "\n",
        "#Combine wide and deep models into one model\n",
        "merge_out = layers.concatenate([wide_model.output, deep_model.output])\n",
        "merge_out = layers.Dense(10, activation='relu')(merge_out)\n",
        "#merge_out = layers.Dropout(0.3)(merge_out)\n",
        "merge_out = layers.Dense(1)(merge_out)\n",
        "model = keras.Model([wide_model.input, deep_model.input], merge_out)\n",
        "model.compile(loss='mse', optimizer=opt, metrics=['accuracy'])"
      ],
      "execution_count": null,
      "outputs": []
    },
    {
      "cell_type": "markdown",
      "metadata": {
        "id": "Ibt-SOb2qFFu"
      },
      "source": [
        "Using a sample of 10k seems to give quite a low accuracy, resulting in a significant deviation. My goal is to reduce this deviation within the range of a unit. So, I will introduce the whole dataset, but this time will train the model using a generator due to its volume and our available memory."
      ]
    },
    {
      "cell_type": "code",
      "metadata": {
        "id": "Ws-1CaVHkCAb"
      },
      "source": [
        "def dataGen(data_reviews, data_labels, token, batch_size=32, seq_len=MAX_LEN):\n",
        "  #'Generates data containing batch_size samples'\n",
        "  batch_num = 0\n",
        "  dataset_len = len(data_reviews)\n",
        "  batches_per_epoch = int(dataset_len/batch_size)\n",
        "\n",
        "  while True:\n",
        "    initial = (batch_num*batch_size) % dataset_len\n",
        "    final = initial + batch_size\n",
        "    temp_reviews = data_reviews[initial:final]\n",
        "    temp_labels = data_labels[initial:final]\n",
        "\n",
        "    x = process_reviews(temp_reviews, token)\n",
        "    y = np.asarray(temp_labels)\n",
        "\n",
        "    batch_num = (batch_num + 1) % batches_per_epoch\n",
        "    yield x,y\n",
        "\n",
        "def test_dataGen(data_reviews, token, batch_size=32, seq_len=MAX_LEN):\n",
        "  #'Generates data containing batch_size samples'\n",
        "  batch_num = 0\n",
        "  dataset_len = len(data_reviews)\n",
        "  batches_per_epoch = int(dataset_len/batch_size)\n",
        "\n",
        "  while True:\n",
        "    initial = (batch_num*batch_size) % dataset_len\n",
        "    final = initial + batch_size\n",
        "    temp_reviews = data_reviews[initial:final]\n",
        "\n",
        "    x = process_reviews(temp_reviews, token)\n",
        "\n",
        "    batch_num = (batch_num + 1) % batches_per_epoch\n",
        "    yield x"
      ],
      "execution_count": null,
      "outputs": []
    },
    {
      "cell_type": "code",
      "metadata": {
        "id": "kHNkzwGLq1Gs"
      },
      "source": [
        "def on_epoch_end(epoch, logs, print_predictions=0):\n",
        "    # Generate predictions\n",
        "    predictions = model.predict(\n",
        "        test_dataGen(test_data.review, token, 128),\n",
        "        steps=int(len(test_data)/128)\n",
        "    )\n",
        "\n",
        "    # Compare predictions with actual values for the first few items in our test dataset\n",
        "    diff = 0\n",
        "    printed = 0\n",
        "    for i in range(len(predictions)):\n",
        "        val = predictions[i]\n",
        "        if print_predictions and printed < print_predictions:\n",
        "            print(test_data.review.iloc[i])\n",
        "            print(f'Predicted: {val[0]:.2f} \\t Actual: {test_labels.iloc[i]} \\n')\n",
        "            printed += 1\n",
        "        diff += abs(val[0] - test_labels.iloc[i])\n",
        "\n",
        "    # Compare the average difference between actual price and the model's predicted price\n",
        "    print(f'\\nEpoch: {epoch+1}. Average prediction difference: {diff/len(predictions):0.4f}\\n')\n",
        "    #print(f'Mean absolute error: {logs[\"mean_absolute_error\"]:.3f}\\n')\n",
        "    \n",
        "    \n",
        "earlystop = keras.callbacks.EarlyStopping(monitor='val_loss', min_delta=0, patience = 3)\n",
        "print_callback = keras.callbacks.LambdaCallback(on_epoch_end=on_epoch_end)"
      ],
      "execution_count": null,
      "outputs": []
    },
    {
      "cell_type": "code",
      "metadata": {
        "id": "HRFrZBi5l7wI"
      },
      "source": [
        "batch_size = 128"
      ],
      "execution_count": null,
      "outputs": []
    },
    {
      "cell_type": "code",
      "metadata": {
        "colab": {
          "base_uri": "https://localhost:8080/"
        },
        "id": "NOjpYpMAOdU1",
        "outputId": "75ffb21b-80a4-4268-f450-c8110f6a333e"
      },
      "source": [
        "history = model.fit(\n",
        "    dataGen(train_data.review,train_labels, token, batch_size = batch_size),\n",
        "    steps_per_epoch = int(len(train_data)/batch_size),\n",
        "    validation_data = dataGen(val_data.review, val_labels, token, batch_size = batch_size),\n",
        "    validation_steps = int(len(val_data)/batch_size),\n",
        "    epochs = 10#,\n",
        "    #callbacks = [print_callback]\n",
        "    )"
      ],
      "execution_count": null,
      "outputs": [
        {
          "output_type": "stream",
          "text": [
            "Epoch 1/10\n",
            "981/981 [==============================] - 42s 43ms/step - loss: 0.2147 - accuracy: 0.1365 - val_loss: 3.7148 - val_accuracy: 0.1361\n",
            "Epoch 2/10\n",
            "981/981 [==============================] - 41s 42ms/step - loss: 0.2000 - accuracy: 0.1365 - val_loss: 3.6530 - val_accuracy: 0.1367\n",
            "Epoch 3/10\n",
            "981/981 [==============================] - 42s 43ms/step - loss: 0.1935 - accuracy: 0.1365 - val_loss: 3.6693 - val_accuracy: 0.1367\n",
            "Epoch 4/10\n",
            "981/981 [==============================] - 42s 42ms/step - loss: 0.1900 - accuracy: 0.1366 - val_loss: 3.6286 - val_accuracy: 0.1370\n",
            "Epoch 5/10\n",
            "981/981 [==============================] - 41s 42ms/step - loss: 0.1867 - accuracy: 0.1365 - val_loss: 3.6505 - val_accuracy: 0.1368\n",
            "Epoch 6/10\n",
            "981/981 [==============================] - 41s 42ms/step - loss: 0.1851 - accuracy: 0.1366 - val_loss: 3.6563 - val_accuracy: 0.1369\n",
            "Epoch 7/10\n",
            "981/981 [==============================] - 41s 42ms/step - loss: 0.1775 - accuracy: 0.1366 - val_loss: 3.6288 - val_accuracy: 0.1371\n",
            "Epoch 8/10\n",
            "981/981 [==============================] - 41s 42ms/step - loss: 0.1768 - accuracy: 0.1366 - val_loss: 3.6465 - val_accuracy: 0.1370\n",
            "Epoch 9/10\n",
            "981/981 [==============================] - 41s 42ms/step - loss: 0.1727 - accuracy: 0.1366 - val_loss: 3.6570 - val_accuracy: 0.1369\n",
            "Epoch 10/10\n",
            "981/981 [==============================] - 42s 42ms/step - loss: 0.1709 - accuracy: 0.1366 - val_loss: 3.6273 - val_accuracy: 0.1372\n"
          ],
          "name": "stdout"
        }
      ]
    },
    {
      "cell_type": "code",
      "metadata": {
        "colab": {
          "base_uri": "https://localhost:8080/",
          "height": 299
        },
        "id": "0ogiVEn53i-a",
        "outputId": "158d1afb-0a21-4a88-e54d-b5b031f12f9c"
      },
      "source": [
        "#Prepare plotting\n",
        "acc = history.history['accuracy']\n",
        "loss = history.history['loss']\n",
        "val_acc = history.history['val_accuracy']\n",
        "val_loss = history.history['val_loss']\n",
        "\n",
        "plt.subplot(1,2,1)\n",
        "plt.plot(acc, label='Accuracy')\n",
        "plt.plot(val_acc, label='Val_accuracy')\n",
        "plt.title('Training/Validation accuracy')\n",
        "plt.legend()\n",
        "\n",
        "plt.subplot(1,2,2)\n",
        "plt.plot(loss, label='Loss')\n",
        "plt.plot(val_loss, label='Val_loss')\n",
        "plt.title('Training/Validation loss')\n",
        "plt.legend()"
      ],
      "execution_count": null,
      "outputs": [
        {
          "output_type": "execute_result",
          "data": {
            "text/plain": [
              "<matplotlib.legend.Legend at 0x7f1b6925dd90>"
            ]
          },
          "metadata": {
            "tags": []
          },
          "execution_count": 25
        },
        {
          "output_type": "display_data",
          "data": {
            "image/png": "[encoded data removed]",
            "text/plain": [
              "<Figure size 432x288 with 2 Axes>"
            ]
          },
          "metadata": {
            "tags": [],
            "needs_background": "light"
          }
        }
      ]
    },
    {
      "cell_type": "markdown",
      "metadata": {
        "id": "1gfPwC1N-G63"
      },
      "source": [
        "We take a look at a sample of reviews, as well as, the rating the model predicts versus the actual one.\n",
        "The model performs quite well and within my expectations. There is little deviation with the majority of reviews, but performs poorly when the review has sentiment that the model hasn't been trained to pick up on e.g. sarcasm, passive-aggression, etc. or when the review is too short of words."
      ]
    },
    {
      "cell_type": "code",
      "metadata": {
        "id": "_jLmujHT5Etv",
        "colab": {
          "base_uri": "https://localhost:8080/"
        },
        "outputId": "dae2473b-28b9-4620-d8b6-798f530ea179"
      },
      "source": [
        "on_epoch_end(10, {}, print_predictions=10)"
      ],
      "execution_count": null,
      "outputs": [
        {
          "output_type": "stream",
          "text": [
            "\"I've tried a few antidepressants over the years (citalopram, fluoxetine, amitriptyline), but none of those helped with my depression, insomnia &amp; anxiety. My doctor suggested and changed me onto 45mg mirtazapine and this medicine has saved my life. Thankfully I have had no side effects especially the most common - weight gain, I've actually lost alot of weight. I still have suicidal thoughts but mirtazapine has saved me.\"\n",
            "Predicted: 9.50 \t Actual: 10.0 \n",
            "\n",
            "\"My son has Crohn's disease and has done very well on the Asacol.  He has no complaints and shows no side effects.  He has taken as many as nine tablets per day at one time.  I've been very happy with the results, reducing his bouts of diarrhea drastically.\"\n",
            "Predicted: 9.28 \t Actual: 8.0 \n",
            "\n",
            "\"Quick reduction of symptoms\"\n",
            "Predicted: 9.09 \t Actual: 9.0 \n",
            "\n",
            "\"Contrave combines drugs that were used for alcohol, smoking, and opioid cessation. People lose weight on it because it also helps control over-eating. I have no doubt that most obesity is caused from sugar/carb addiction, which is just as powerful as any drug. I have been taking it for five days, and the good news is, it seems to go to work immediately. I feel hungry before I want food now. I really don't care to eat; it's just to fill my stomach. Since I have only been on it a few days, I don't know if I've lost weight (I don't have a scale), but my clothes do feel a little looser, so maybe a pound or two. I'm hoping that after a few months on this medication, I will develop healthier habits that I can continue without the aid of Contrave.\"\n",
            "Predicted: 8.74 \t Actual: 9.0 \n",
            "\n",
            "\"I have been on this birth control for one cycle. After reading some of the reviews on this type and similar birth controls I was a bit apprehensive to start. Im giving this birth control a 9 out of 10 as I have not been on it long enough for a 10. So far I love this birth control! My side effects have been so minimal its like Im not even on birth control! I have experienced mild headaches here and there and some nausea but other than that ive been feeling great! I got my period on cue on the third day of the inactive pills and I had no idea it was coming because I had zero pms! My period was very light and I barely had any cramping! I had unprotected sex the first month and obviously didn't get pregnant so I'm very pleased! Highly recommend\"\n",
            "Predicted: 9.88 \t Actual: 9.0 \n",
            "\n",
            "\"4 days in on first 2 weeks.  Using on arms and face. Put vaseline on lips, under eyes and in nostrils to protect from cream.  So far no reaction at all.  I know I have many pre cancer and thought I would light up like a Christmas tree but so far so good.  Maybe it's coming but time will tell.\"\n",
            "Predicted: 1.91 \t Actual: 4.0 \n",
            "\n",
            "\"I've had the copper coil for about 3 months now. I was really excited at the thought of not taking hormones. I'm good with pain however I nearly fainted with insertion, couldn't belive how painful it was; the doctor did say it is very painful for some. Well 3 months in, my periods last 11 days and I'm in pain for about 15 days with random twangs especially in the left side and I'm considering whether I want to put up with the intense pain and heavy periods. I'd recommend this 100% to somebody who doesn't already have heavy painful periods but right now it just isn't for me\"\n",
            "Predicted: 7.16 \t Actual: 6.0 \n",
            "\n",
            "\"This has been great for me. I've been on it for 2 weeks and in the last week I only had 3 headaches which went away with 2 Tylenol. I was having chronic daily headaches that wouldn't go away no matter what I took. I'm still a little sleepy during the day, but I know that will get better. I take 10mg at night.\"\n",
            "Predicted: 7.61 \t Actual: 9.0 \n",
            "\n",
            "\"Ive been on Methadone for over ten years and currently,I am trying to get off of this drug. Ive been decreasing my does 2 mgs per month for over a year. I am at 3 mgs and really starting to feel the withdraw.I don't plan to get my next 30 doses.because its almost rediculous how little it does for me. I have 3 does doses of 3 mg and Im terrified. Can anyone give me some truthful encouragement?.....\"\n",
            "Predicted: 4.53 \t Actual: 7.0 \n",
            "\n",
            "\"I was on this pill for almost two years. It does work as far as not getting pregnant however my experience at first was it didn't make a huge difference then 6 or 7 months into it my sex drive went down, along with being very very dry, my moodiness increased drastically. I would cry one second and then get angry with my husband over anything and everything. My skin has gotten a lot worse, I broke out in places I never had in the last week. So now I am on Yaz.\"\n",
            "Predicted: 3.66 \t Actual: 2.0 \n",
            "\n",
            "\n",
            "Epoch: 11. Average prediction difference: 1.3378\n",
            "\n"
          ],
          "name": "stdout"
        }
      ]
    },
    {
      "cell_type": "markdown",
      "metadata": {
        "id": "cKTnQxojGaus"
      },
      "source": [
        "#Future considerations\n",
        "\n",
        "\n",
        "*   Optimize training data by removing capitalisations, stop words, words that occur frequently, but offer no use, e.g. that, the, is, are, etc.\n",
        "\n",
        "* Use pre-trained word vectors such as [GLoVe](https://nlp.stanford.edu/projects/glove/) for our embeddings.\n",
        "\n",
        "* Build more complex networks using a simple RNN or an LSTM network.\n",
        "\n"
      ]
    },
    {
      "cell_type": "markdown",
      "metadata": {
        "id": "WdeoDoPtsx_J"
      },
      "source": [
        "# Acknowledgments\n",
        "\n",
        "The dataset was originally published on the UCI Machine Learning repository. \n",
        "\n",
        "Felix Gräßer, Surya Kallumadi, Hagen Malberg, and Sebastian Zaunseder. 2018. Aspect-Based Sentiment Analysis of Drug Reviews Applying Cross-Domain and Cross-Data Learning. In Proceedings of the 2018 International Conference on Digital Health (DH '18). ACM, New York, NY, USA, 121-125."
      ]
    }
  ]
}