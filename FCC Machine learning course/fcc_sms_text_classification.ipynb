{
  "nbformat": 4,
  "nbformat_minor": 0,
  "metadata": {
    "colab": {
      "name": "fcc_sms_text_classification.ipynb",
      "provenance": [],
      "collapsed_sections": [],
      "include_colab_link": true
    },
    "kernelspec": {
      "display_name": "Python 3",
      "name": "python3"
    },
    "accelerator": "GPU"
  },
  "cells": [
    {
      "cell_type": "markdown",
      "metadata": {
        "id": "view-in-github",
        "colab_type": "text"
      },
      "source": [
        "<a href=\"https://colab.research.google.com/github/DiaaEddinH/ML-python-project/blob/main/fcc_sms_text_classification.ipynb\" target=\"_parent\"><img src=\"https://colab.research.google.com/assets/colab-badge.svg\" alt=\"Open In Colab\"/></a>"
      ]
    },
    {
      "cell_type": "markdown",
      "metadata": {
        "id": "Eg62Pmz3o83v"
      },
      "source": [
        "*Note: You are currently reading this using Google Colaboratory which is a cloud-hosted version of Jupyter Notebook. This is a document containing both text cells for documentation and runnable code cells. If you are unfamiliar with Jupyter Notebook, watch this 3-minute introduction before starting this challenge: https://www.youtube.com/watch?v=inN8seMm7UI*\n",
        "\n",
        "---\n",
        "\n",
        "In this challenge, you need to create a machine learning model that will classify SMS messages as either \"ham\" or \"spam\". A \"ham\" message is a normal message sent by a friend. A \"spam\" message is an advertisement or a message sent by a company.\n",
        "\n",
        "You should create a function called `predict_message` that takes a message string as an argument and returns a list. The first element in the list should be a number between zero and one that indicates the likeliness of \"ham\" (0) or \"spam\" (1). The second element in the list should be the word \"ham\" or \"spam\", depending on which is most likely.\n",
        "\n",
        "For this challenge, you will use the [SMS Spam Collection dataset](http://www.dt.fee.unicamp.br/~tiago/smsspamcollection/). The dataset has already been grouped into train data and test data.\n",
        "\n",
        "The first two cells import the libraries and data. The final cell tests your model and function. Add your code in between these cells.\n"
      ]
    },
    {
      "cell_type": "code",
      "metadata": {
        "id": "8RZOuS9LWQvv"
      },
      "source": [
        "# import libraries\n",
        "try:\n",
        "  # %tensorflow_version only exists in Colab.\n",
        "  !pip install tf-nightly\n",
        "except Exception:\n",
        "  pass\n",
        "import tensorflow as tf\n",
        "import pandas as pd\n",
        "from tensorflow import keras\n",
        "!pip install tensorflow-datasets\n",
        "import tensorflow_datasets as tfds\n",
        "import numpy as np\n",
        "import matplotlib.pyplot as plt\n",
        "\n",
        "print(tf.__version__)"
      ],
      "execution_count": null,
      "outputs": []
    },
    {
      "cell_type": "code",
      "metadata": {
        "id": "lMHwYXHXCar3"
      },
      "source": [
        "# get data files\n",
        "!wget https://cdn.freecodecamp.org/project-data/sms/train-data.tsv\n",
        "!wget https://cdn.freecodecamp.org/project-data/sms/valid-data.tsv\n",
        "\n",
        "train_file_path = \"train-data.tsv\"\n",
        "test_file_path = \"valid-data.tsv\""
      ],
      "execution_count": null,
      "outputs": []
    },
    {
      "cell_type": "code",
      "metadata": {
        "id": "g_h508FEClxO"
      },
      "source": [
        "train_dataset = pd.read_csv(\n",
        "      train_file_path,\n",
        "      header = None,\n",
        "      names=[\"sms_type\",\"sms_text\"],\n",
        "      usecols=[\"sms_type\",\"sms_text\"],\n",
        "      dtype={\"sms_type\":\"str\",\"sms_text\":\"str\"},\n",
        "      sep=\"\\t\")\n",
        "\n",
        "test_dataset = pd.read_csv(\n",
        "      test_file_path,\n",
        "      header = None,\n",
        "      names=[\"sms_type\",\"sms_text\"],\n",
        "      usecols=[\"sms_type\",\"sms_text\"],\n",
        "      dtype={\"sms_type\":\"str\",\"sms_text\":\"str\"},\n",
        "      sep=\"\\t\")\n",
        "\n",
        "train_labels = train_dataset.copy().pop('sms_type').map(lambda k: 0 if k==\"ham\" else 1)\n",
        "test_labels = test_dataset.copy().pop('sms_type').map(lambda k: 0 if k==\"ham\" else 1)"
      ],
      "execution_count": null,
      "outputs": []
    },
    {
      "cell_type": "code",
      "metadata": {
        "id": "wiHGehUuGnrP"
      },
      "source": [
        "vocab_size = 10000\n",
        "maxlen = 300\n",
        "\n",
        "#word-level one hot-encoding using Tokenizer\n",
        "tokenizer = keras.preprocessing.text.Tokenizer(vocab_size)\n",
        "tokenizer.fit_on_texts(train_dataset.sms_text)\n",
        "sequences = tokenizer.texts_to_sequences(train_dataset.sms_text)\n",
        "one_hot_res = tokenizer.texts_to_matrix(train_dataset.sms_text,mode='binary')\n",
        "word_index = tokenizer.word_index"
      ],
      "execution_count": null,
      "outputs": []
    },
    {
      "cell_type": "code",
      "metadata": {
        "id": "zOMKywn4zReN"
      },
      "source": [
        "x_train = keras.preprocessing.sequence.pad_sequences(sequences, maxlen=maxlen)\n",
        "y_train = np.asarray(train_labels)\n",
        "#train_dataset.sms_type = train_dataset.sms_type.map(lambda k: 0 if k==\"ham\" else 1)"
      ],
      "execution_count": null,
      "outputs": []
    },
    {
      "cell_type": "code",
      "metadata": {
        "id": "Q3EjljzIYHn3"
      },
      "source": [
        "model = keras.models.Sequential()\n",
        "model.add(keras.layers.Embedding(vocab_size,32))\n",
        "model.add(keras.layers.LSTM(32))\n",
        "#model.add(keras.layers.Flatten())\n",
        "#model.add(keras.layers.Dense(32, activation='relu'))\n",
        "model.add(keras.layers.Dense(1,activation='sigmoid'))\n",
        "\n",
        "model.compile(optimizer='adam',\n",
        "              loss='binary_crossentropy',\n",
        "              metrics=['acc'])"
      ],
      "execution_count": null,
      "outputs": []
    },
    {
      "cell_type": "code",
      "metadata": {
        "id": "y4V9PXXUbWKm",
        "colab": {
          "base_uri": "https://localhost:8080/"
        },
        "outputId": "318b3b38-6182-4e20-9447-df7c335ca209"
      },
      "source": [
        "history = model.fit(x_train,y_train, batch_size=32,\n",
        "                    epochs=20, validation_split = 0.2)"
      ],
      "execution_count": null,
      "outputs": [
        {
          "output_type": "stream",
          "text": [
            "Epoch 1/20\n",
            "105/105 [==============================] - 12s 105ms/step - loss: 0.4765 - acc: 0.8423 - val_loss: 0.1148 - val_acc: 0.9737\n",
            "Epoch 2/20\n",
            "105/105 [==============================] - 11s 101ms/step - loss: 0.0945 - acc: 0.9823 - val_loss: 0.0536 - val_acc: 0.9868\n",
            "Epoch 3/20\n",
            "105/105 [==============================] - 10s 98ms/step - loss: 0.0319 - acc: 0.9947 - val_loss: 0.0642 - val_acc: 0.9809\n",
            "Epoch 4/20\n",
            "105/105 [==============================] - 10s 97ms/step - loss: 0.0099 - acc: 0.9990 - val_loss: 0.0416 - val_acc: 0.9904\n",
            "Epoch 5/20\n",
            "105/105 [==============================] - 11s 101ms/step - loss: 0.0063 - acc: 0.9991 - val_loss: 0.0590 - val_acc: 0.9856\n",
            "Epoch 6/20\n",
            "105/105 [==============================] - 10s 98ms/step - loss: 0.0072 - acc: 0.9996 - val_loss: 0.0470 - val_acc: 0.9904\n",
            "Epoch 7/20\n",
            "105/105 [==============================] - 11s 101ms/step - loss: 0.0016 - acc: 0.9999 - val_loss: 0.0536 - val_acc: 0.9856\n",
            "Epoch 8/20\n",
            "105/105 [==============================] - 11s 106ms/step - loss: 0.0014 - acc: 0.9999 - val_loss: 0.0450 - val_acc: 0.9856\n",
            "Epoch 9/20\n",
            "105/105 [==============================] - 11s 103ms/step - loss: 0.0045 - acc: 0.9987 - val_loss: 0.0633 - val_acc: 0.9809\n",
            "Epoch 10/20\n",
            "105/105 [==============================] - 10s 99ms/step - loss: 0.0071 - acc: 0.9977 - val_loss: 0.0464 - val_acc: 0.9892\n",
            "Epoch 11/20\n",
            "105/105 [==============================] - 11s 108ms/step - loss: 7.7880e-04 - acc: 0.9999 - val_loss: 0.0486 - val_acc: 0.9892\n",
            "Epoch 12/20\n",
            "105/105 [==============================] - 11s 105ms/step - loss: 6.9525e-04 - acc: 1.0000 - val_loss: 0.0482 - val_acc: 0.9916\n",
            "Epoch 13/20\n",
            "105/105 [==============================] - 12s 110ms/step - loss: 5.5558e-04 - acc: 1.0000 - val_loss: 0.0503 - val_acc: 0.9916\n",
            "Epoch 14/20\n",
            "105/105 [==============================] - 11s 104ms/step - loss: 3.2639e-04 - acc: 1.0000 - val_loss: 0.0550 - val_acc: 0.9904\n",
            "Epoch 15/20\n",
            "105/105 [==============================] - 11s 105ms/step - loss: 3.9826e-04 - acc: 1.0000 - val_loss: 0.0548 - val_acc: 0.9892\n",
            "Epoch 16/20\n",
            "105/105 [==============================] - 11s 106ms/step - loss: 3.4509e-04 - acc: 1.0000 - val_loss: 0.0571 - val_acc: 0.9904\n",
            "Epoch 17/20\n",
            "105/105 [==============================] - 11s 103ms/step - loss: 2.4077e-04 - acc: 1.0000 - val_loss: 0.0603 - val_acc: 0.9892\n",
            "Epoch 18/20\n",
            "105/105 [==============================] - 11s 102ms/step - loss: 1.7908e-04 - acc: 1.0000 - val_loss: 0.0637 - val_acc: 0.9892\n",
            "Epoch 19/20\n",
            "105/105 [==============================] - 11s 105ms/step - loss: 1.7058e-04 - acc: 1.0000 - val_loss: 0.0648 - val_acc: 0.9892\n",
            "Epoch 20/20\n",
            "105/105 [==============================] - 11s 103ms/step - loss: 2.0621e-04 - acc: 1.0000 - val_loss: 0.0647 - val_acc: 0.9904\n"
          ],
          "name": "stdout"
        }
      ]
    },
    {
      "cell_type": "code",
      "metadata": {
        "id": "COGmCuRHh3zn"
      },
      "source": [
        "sequences = tokenizer.texts_to_sequences(test_dataset.sms_text)\n",
        "x_test = keras.preprocessing.sequence.pad_sequences(sequences, maxlen=maxlen)\n",
        "y_test = np.asarray(test_labels)"
      ],
      "execution_count": null,
      "outputs": []
    },
    {
      "cell_type": "code",
      "metadata": {
        "colab": {
          "base_uri": "https://localhost:8080/"
        },
        "id": "jICrm3XAhQIz",
        "outputId": "71b26dd3-3324-4051-8d34-3b0ea972d453"
      },
      "source": [
        "model.evaluate(x_test,y_test)"
      ],
      "execution_count": null,
      "outputs": [
        {
          "output_type": "stream",
          "text": [
            "44/44 [==============================] - 1s 18ms/step - loss: 0.0701 - acc: 0.9878\n"
          ],
          "name": "stdout"
        },
        {
          "output_type": "execute_result",
          "data": {
            "text/plain": [
              "[0.07013226300477982, 0.9877873659133911]"
            ]
          },
          "metadata": {
            "tags": []
          },
          "execution_count": 178
        }
      ]
    },
    {
      "cell_type": "code",
      "metadata": {
        "colab": {
          "base_uri": "https://localhost:8080/",
          "height": 283
        },
        "id": "NQjmOJ7R2Ahr",
        "outputId": "6cde231d-a724-4580-9631-b0e5c91418b6"
      },
      "source": [
        "dt = history.history\n",
        "fig, (ax1, ax2) = plt.subplots(1,2)\n",
        "ax1.plot(dt['acc'])\n",
        "ax1.plot(dt['val_acc'],'o')\n",
        "\n",
        "ax2.plot(dt['loss'])\n",
        "ax2.plot(dt['val_loss'],'o')"
      ],
      "execution_count": null,
      "outputs": [
        {
          "output_type": "execute_result",
          "data": {
            "text/plain": [
              "[<matplotlib.lines.Line2D at 0x7f292a92b210>]"
            ]
          },
          "metadata": {
            "tags": []
          },
          "execution_count": 179
        },
        {
          "output_type": "display_data",
          "data": {
            "image/png": "[encoded data removed]",
            "text/plain": [
              "<Figure size 432x288 with 2 Axes>"
            ]
          },
          "metadata": {
            "tags": [],
            "needs_background": "light"
          }
        }
      ]
    },
    {
      "cell_type": "code",
      "metadata": {
        "id": "b0HicinJ-sg6"
      },
      "source": [
        "def encode_text(text):\n",
        "  token = keras.preprocessing.text.text_to_word_sequence(text)\n",
        "  token = [word_index[word] if word in word_index else 0 for word in token]\n",
        "  return keras.preprocessing.sequence.pad_sequences([token],maxlen)[0]\n",
        "\n",
        "reverse_word_index = {value: key for (key,value) in word_index.items()}"
      ],
      "execution_count": null,
      "outputs": []
    },
    {
      "cell_type": "code",
      "metadata": {
        "id": "J9tD9yACG6M9",
        "colab": {
          "base_uri": "https://localhost:8080/"
        },
        "outputId": "759bc0b9-4719-4360-a073-269dcb4a0b34"
      },
      "source": [
        "# function to predict messages based on model\n",
        "# (should return list containing prediction and label, ex. [0.008318834938108921, 'ham'])\n",
        "def predict_message(pred_text):\n",
        "  encoded = encode_text(pred_text)\n",
        "  pred = np.zeros((1,maxlen))\n",
        "  pred[0] = encoded\n",
        "  prediction = list(model.predict(pred)[0])\n",
        "  prediction.append(\"ham\" if prediction[0] <0.5 else \"spam\")\n",
        "\n",
        "  return prediction\n",
        "\n",
        "pred_text = \"how are you doing today?\"\n",
        "\n",
        "prediction = predict_message(pred_text)\n",
        "print(prediction)"
      ],
      "execution_count": null,
      "outputs": [
        {
          "output_type": "stream",
          "text": [
            "[9.8756376e-05, 'ham']\n"
          ],
          "name": "stdout"
        }
      ]
    },
    {
      "cell_type": "code",
      "metadata": {
        "id": "Dxotov85SjsC",
        "colab": {
          "base_uri": "https://localhost:8080/"
        },
        "outputId": "17b0d926-5a22-46cb-ea0e-6b1da25877e6"
      },
      "source": [
        "# Run this cell to test your function and model. Do not modify contents.\n",
        "def test_predictions():\n",
        "  test_messages = [\"how are you doing today\",\n",
        "                   \"sale today! to stop texts call 98912460324\",\n",
        "                   \"i dont want to go. can we try it a different day? available sat\",\n",
        "                   \"our new mobile video service is live. just install on your phone to start watching.\",\n",
        "                   \"you have won £1000 cash! call to claim your prize.\",\n",
        "                   \"i'll bring it tomorrow. don't forget the milk.\",\n",
        "                   \"wow, is your arm alright. that happened to me one time too\"\n",
        "                  ]\n",
        "\n",
        "  test_answers = [\"ham\", \"spam\", \"ham\", \"spam\", \"spam\", \"ham\", \"ham\"]\n",
        "  passed = True\n",
        "\n",
        "  for msg, ans in zip(test_messages, test_answers):\n",
        "    prediction = predict_message(msg)\n",
        "    if prediction[1] != ans:\n",
        "      passed = False\n",
        "\n",
        "  if passed:\n",
        "    print(\"You passed the challenge. Great job!\")\n",
        "  else:\n",
        "    print(\"You haven't passed yet. Keep trying.\")\n",
        "\n",
        "test_predictions()\n"
      ],
      "execution_count": null,
      "outputs": [
        {
          "output_type": "stream",
          "text": [
            "You passed the challenge. Great job!\n"
          ],
          "name": "stdout"
        }
      ]
    },
    {
      "cell_type": "code",
      "metadata": {
        "colab": {
          "base_uri": "https://localhost:8080/"
        },
        "id": "SmJncH6wp2YD",
        "outputId": "3031042f-2052-4487-8d88-35ac1f590b01"
      },
      "source": [
        "predict_message(\"sale today! to stop texts call 98912460324\")"
      ],
      "execution_count": null,
      "outputs": [
        {
          "output_type": "execute_result",
          "data": {
            "text/plain": [
              "[0.9885661, 'spam']"
            ]
          },
          "metadata": {
            "tags": []
          },
          "execution_count": 184
        }
      ]
    }
  ]
}
